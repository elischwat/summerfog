{
 "cells": [
  {
   "cell_type": "markdown",
   "metadata": {},
   "source": [
    "copied from: https://medium.com/@geonextgis/getting-started-with-microsoft-planetary-computer-stac-api-67cbebe96e5e"
   ]
  },
  {
   "cell_type": "code",
   "execution_count": 1,
   "metadata": {},
   "outputs": [],
   "source": [
    "import pystac_client\n",
    "import planetary_computer\n",
    "import odc.stac\n",
    "import matplotlib.pyplot as plt\n",
    "import geopandas as gpd\n",
    "from pystac.extensions.eo import EOExtension as eo"
   ]
  },
  {
   "cell_type": "code",
   "execution_count": 2,
   "metadata": {},
   "outputs": [],
   "source": [
    "catalog = pystac_client.Client.open(\n",
    "    \"https://planetarycomputer.microsoft.com/api/stac/v1\",\n",
    "    modifier=planetary_computer.sign_inplace\n",
    ")\n"
   ]
  },
  {
   "cell_type": "code",
   "execution_count": 3,
   "metadata": {},
   "outputs": [],
   "source": [
    "# from original example\n",
    "# bbox_of_interest = [77.3521, 12.7235, 77.8477, 13.2186]\n",
    "# time_of_interest = \"2022-01-01/2022-12-31\"\n",
    "\n",
    "# FHL location on San Juans\n",
    "bbox_of_interest = [-123.33711789011167, 48.30270109018668, -122.65866282644907, 48.93242519875351]\n",
    "\n",
    "times_of_interest = [\n",
    "    \"2022-07-27/2022-07-27\",\n",
    "    \"2022-08-04/2022-08-04\",\n",
    "    \"2022-08-12/2022-08-12\",\n",
    "    \"2022-08-20/2022-08-20\",\n",
    "    \"2022-09-29/2022-09-29\",\n",
    "]"
   ]
  },
  {
   "cell_type": "code",
   "execution_count": 4,
   "metadata": {},
   "outputs": [
    {
     "name": "stdout",
     "output_type": "stream",
     "text": [
      "Returned 2 Items\n",
      "Returned 2 Items\n",
      "Returned 3 Items\n",
      "Returned 0 Items\n",
      "Returned 2 Items\n"
     ]
    }
   ],
   "source": [
    "items_list = []\n",
    "for time_stamp in times_of_interest:\n",
    "    # Query the catalog and sort the filtered image collection based on 'cloud_cover' \n",
    "    search = catalog.search(\n",
    "        collections=[\"landsat-c2-l2\", \"landsat-c1-l2\"],\n",
    "        bbox=bbox_of_interest,\n",
    "        datetime=time_stamp,\n",
    "        # query={\"eo:cloud_cover\": {\"lt\": 10}},\n",
    "        # sortby=[\"eo:cloud_cover\"]\n",
    "    )\n",
    "\n",
    "    items = search.item_collection()\n",
    "    print(f\"Returned {len(items)} Items\")\n",
    "    items_list.append(items)"
   ]
  },
  {
   "cell_type": "code",
   "execution_count": 5,
   "metadata": {},
   "outputs": [],
   "source": [
    "bands_of_interest = [\"nir08\", \"red\", \"green\", \"blue\", \"qa_pixel\", \"lwir11\"]\n",
    "\n",
    "datas = []\n",
    "for items in items_list:\n",
    "    for selected_item in items:\n",
    "        if all([\n",
    "            band in selected_item.assets.keys() for band in bands_of_interest\n",
    "        ]):\n",
    "            data = odc.stac.stac_load(\n",
    "                [selected_item], bands=bands_of_interest, bbox=bbox_of_interest\n",
    "            ).isel(time=0)\n",
    "            datas.append(data)"
   ]
  },
  {
   "cell_type": "code",
   "execution_count": 6,
   "metadata": {},
   "outputs": [],
   "source": [
    "scale = 0.00341802\n",
    "offset = 149.0"
   ]
  },
  {
   "cell_type": "code",
   "execution_count": 7,
   "metadata": {},
   "outputs": [
    {
     "name": "stdout",
     "output_type": "stream",
     "text": [
      "2022-07-27T19:01:50.586279000.nc\n",
      "2022-07-27T19:01:26.703735000.nc\n",
      "2022-08-04T19:02:17.408501000.nc\n",
      "2022-08-04T19:01:53.525933000.nc\n",
      "2022-08-12T19:02:00.844506000.nc\n",
      "2022-08-12T19:01:36.957727000.nc\n",
      "2022-09-29T19:02:11.597592000.nc\n",
      "2022-09-29T19:01:47.715049000.nc\n"
     ]
    }
   ],
   "source": [
    "for d in datas:\n",
    "    temperature = d[\"lwir11\"].astype(\"float\")\n",
    "    temperature *= scale\n",
    "    temperature += offset\n",
    "    celsius = temperature - 273.15\n",
    "    d['temperature_celsius'] = celsius\n",
    "    fn = f\"{str(d.time.values)}.nc\" \n",
    "    print(fn)\n",
    "    d.to_netcdf(fn)"
   ]
  }
 ],
 "metadata": {
  "kernelspec": {
   "display_name": "sublimationofsnow",
   "language": "python",
   "name": "python3"
  },
  "language_info": {
   "codemirror_mode": {
    "name": "ipython",
    "version": 3
   },
   "file_extension": ".py",
   "mimetype": "text/x-python",
   "name": "python",
   "nbconvert_exporter": "python",
   "pygments_lexer": "ipython3",
   "version": "3.9.22"
  }
 },
 "nbformat": 4,
 "nbformat_minor": 2
}
