{
 "cells": [
  {
   "cell_type": "code",
   "execution_count": null,
   "id": "6a5243d9",
   "metadata": {},
   "outputs": [
    {
     "ename": "",
     "evalue": "",
     "output_type": "error",
     "traceback": [
      "\u001b[1;31mRunning cells with '.venv (Python 3.12.11)' requires the ipykernel package.\n",
      "\u001b[1;31mInstall 'ipykernel' into the Python environment. \n",
      "\u001b[1;31mCommand: '/home/caprice/summerfog/.venv/bin/python -m pip install ipykernel -U --force-reinstall'"
     ]
    }
   ],
   "source": [
    "#learning how to read csv files into python\n",
    "\n",
    "import numpy as np\n",
    "import matplotlib.pyplot as plt\n",
    "import pandas as pd\n",
    "print('hi')"
   ]
  },
  {
   "cell_type": "code",
   "execution_count": null,
   "id": "ffa31c9c",
   "metadata": {},
   "outputs": [],
   "source": [
    "x = np.linspace(0, 10, 100)\n",
    "y = x**2"
   ]
  },
  {
   "cell_type": "code",
   "execution_count": null,
   "id": "90cafdd8",
   "metadata": {},
   "outputs": [
    {
     "data": {
      "text/plain": [
       "Text(0.5, 1.0, 'My first plot')"
      ]
     },
     "execution_count": 4,
     "metadata": {},
     "output_type": "execute_result"
    },
    {
     "data": {
      "image/png": "[encoded data removed]",
      "text/plain": [
       "<Figure size 432x288 with 1 Axes>"
      ]
     },
     "metadata": {
      "needs_background": "light"
     },
     "output_type": "display_data"
    }
   ],
   "source": [
    "plt.figure()\n",
    "plt.plot(x, y, 'red')\n",
    "plt.xlabel('x value')\n",
    "plt.ylabel('y value')\n",
    "plt.title('My first plot')"
   ]
  },
  {
   "cell_type": "code",
   "execution_count": 6,
   "id": "f918079a",
   "metadata": {},
   "outputs": [],
   "source": [
    "datafile = 'tempdata.csv'\n",
    "tempdata = pd.read_csv(datafile)"
   ]
  },
  {
   "cell_type": "code",
   "execution_count": null,
   "id": "8743f2c4",
   "metadata": {},
   "outputs": [
    {
     "data": {
      "text/html": [
       "<div>\n",
       "<style scoped>\n",
       "    .dataframe tbody tr th:only-of-type {\n",
       "        vertical-align: middle;\n",
       "    }\n",
       "\n",
       "    .dataframe tbody tr th {\n",
       "        vertical-align: top;\n",
       "    }\n",
       "\n",
       "    .dataframe thead th {\n",
       "        text-align: right;\n",
       "    }\n",
       "</style>\n",
       "<table border=\"1\" class=\"dataframe\">\n",
       "  <thead>\n",
       "    <tr style=\"text-align: right;\">\n",
       "      <th></th>\n",
       "      <th>Date Time, GMT-07:00</th>\n",
       "      <th>Temp, °F (LGR S/N: 10567340, SEN S/N: 10567340)</th>\n",
       "      <th>Temp, °F (LGR S/N: 10567318, SEN S/N: 10567318)</th>\n",
       "      <th>Temp, °F (LGR S/N: 10759163, SEN S/N: 10759163)</th>\n",
       "      <th>Temp, °F (LGR S/N: 10567315, SEN S/N: 10567315)</th>\n",
       "      <th>Temp, °F (LGR S/N: 10567317, SEN S/N: 10567317)</th>\n",
       "    </tr>\n",
       "  </thead>\n",
       "  <tbody>\n",
       "    <tr>\n",
       "      <th>0</th>\n",
       "      <td>6/18/2025 17:00</td>\n",
       "      <td>71.231</td>\n",
       "      <td>71.190</td>\n",
       "      <td>69.600</td>\n",
       "      <td>71.490</td>\n",
       "      <td>71.661</td>\n",
       "    </tr>\n",
       "    <tr>\n",
       "      <th>1</th>\n",
       "      <td>6/18/2025 17:30</td>\n",
       "      <td>71.146</td>\n",
       "      <td>70.716</td>\n",
       "      <td>71.404</td>\n",
       "      <td>71.404</td>\n",
       "      <td>71.231</td>\n",
       "    </tr>\n",
       "    <tr>\n",
       "      <th>2</th>\n",
       "      <td>6/18/2025 18:00</td>\n",
       "      <td>70.416</td>\n",
       "      <td>69.985</td>\n",
       "      <td>70.459</td>\n",
       "      <td>70.673</td>\n",
       "      <td>70.543</td>\n",
       "    </tr>\n",
       "    <tr>\n",
       "      <th>3</th>\n",
       "      <td>6/18/2025 18:30</td>\n",
       "      <td>69.771</td>\n",
       "      <td>69.427</td>\n",
       "      <td>69.771</td>\n",
       "      <td>69.985</td>\n",
       "      <td>69.901</td>\n",
       "    </tr>\n",
       "    <tr>\n",
       "      <th>4</th>\n",
       "      <td>6/18/2025 19:00</td>\n",
       "      <td>69.256</td>\n",
       "      <td>68.999</td>\n",
       "      <td>69.300</td>\n",
       "      <td>69.427</td>\n",
       "      <td>69.386</td>\n",
       "    </tr>\n",
       "  </tbody>\n",
       "</table>\n",
       "</div>"
      ],
      "text/plain": [
       "  Date Time, GMT-07:00  Temp, °F (LGR S/N: 10567340, SEN S/N: 10567340)  \\\n",
       "0      6/18/2025 17:00                                           71.231   \n",
       "1      6/18/2025 17:30                                           71.146   \n",
       "2      6/18/2025 18:00                                           70.416   \n",
       "3      6/18/2025 18:30                                           69.771   \n",
       "4      6/18/2025 19:00                                           69.256   \n",
       "\n",
       "   Temp, °F (LGR S/N: 10567318, SEN S/N: 10567318)  \\\n",
       "0                                           71.190   \n",
       "1                                           70.716   \n",
       "2                                           69.985   \n",
       "3                                           69.427   \n",
       "4                                           68.999   \n",
       "\n",
       "   Temp, °F (LGR S/N: 10759163, SEN S/N: 10759163)  \\\n",
       "0                                           69.600   \n",
       "1                                           71.404   \n",
       "2                                           70.459   \n",
       "3                                           69.771   \n",
       "4                                           69.300   \n",
       "\n",
       "   Temp, °F (LGR S/N: 10567315, SEN S/N: 10567315)  \\\n",
       "0                                           71.490   \n",
       "1                                           71.404   \n",
       "2                                           70.673   \n",
       "3                                           69.985   \n",
       "4                                           69.427   \n",
       "\n",
       "   Temp, °F (LGR S/N: 10567317, SEN S/N: 10567317)  \n",
       "0                                           71.661  \n",
       "1                                           71.231  \n",
       "2                                           70.543  \n",
       "3                                           69.901  \n",
       "4                                           69.386  "
      ]
     },
     "execution_count": 7,
     "metadata": {},
     "output_type": "execute_result"
    }
   ],
   "source": [
    "tempdata.head()\n",
    "# returns the first few rows of data"
   ]
  },
  {
   "cell_type": "code",
   "execution_count": null,
   "id": "fce28ba1",
   "metadata": {},
   "outputs": [
    {
     "name": "stdout",
     "output_type": "stream",
     "text": [
      "Index(['Date Time, GMT-07:00',\n",
      "       'Temp, °F (LGR S/N: 10567340, SEN S/N: 10567340)',\n",
      "       'Temp, °F (LGR S/N: 10567318, SEN S/N: 10567318)',\n",
      "       'Temp, °F (LGR S/N: 10759163, SEN S/N: 10759163)',\n",
      "       'Temp, °F (LGR S/N: 10567315, SEN S/N: 10567315)',\n",
      "       'Temp, °F (LGR S/N: 10567317, SEN S/N: 10567317)'],\n",
      "      dtype='object')\n"
     ]
    },
    {
     "data": {
      "text/plain": [
       "<Figure size 432x288 with 0 Axes>"
      ]
     },
     "metadata": {},
     "output_type": "display_data"
    }
   ],
   "source": [
    "plt.figure()\n",
    "print(tempdata.columns)\n",
    "\n",
    "#plt.plot(tempdata['Date Time, GMT-07:00'], tempdata['Temp, °F (LGR S/N: 10567340, SEN S/N: 10567340)'])\n",
    "\n"
   ]
  },
  {
   "cell_type": "code",
   "execution_count": null,
   "id": "1c3d4aec",
   "metadata": {},
   "outputs": [],
   "source": []
  }
 ],
 "metadata": {
  "kernelspec": {
   "display_name": ".venv",
   "language": "python",
   "name": "python3"
  },
  "language_info": {
   "codemirror_mode": {
    "name": "ipython",
    "version": 3
   },
   "file_extension": ".py",
   "mimetype": "text/x-python",
   "name": "python",
   "nbconvert_exporter": "python",
   "pygments_lexer": "ipython3",
   "version": "3.12.11"
  }
 },
 "nbformat": 4,
 "nbformat_minor": 5
}
